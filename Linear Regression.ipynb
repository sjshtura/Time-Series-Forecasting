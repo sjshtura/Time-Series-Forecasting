{
  "nbformat": 4,
  "nbformat_minor": 0,
  "metadata": {
    "colab": {
      "provenance": []
    },
    "kernelspec": {
      "name": "python3",
      "display_name": "Python 3"
    },
    "language_info": {
      "name": "python"
    }
  },
  "cells": [
    {
      "cell_type": "markdown",
      "source": [
        "Linear regression is a commonly used method to model time series data. It involves fitting a linear equation to the data to describe the relationship between the dependent variable and one or more independent variables.\n",
        "\n",
        "To illustrate the use of linear regression with time series data, let's consider an example of modeling the monthly sales of a product over time. The dependent variable is the sales, and the independent variable is time, which can be represented as the month number starting from the first month of sales.\n",
        "\n",
        "Suppose we have sales data for the first 24 months, and we want to predict the sales for the next 6 months. We can use linear regression to model the relationship between sales and time for the first 24 months, and then use the model to make predictions for the next 6 months.\n",
        "\n",
        "Here's an example of how to perform linear regression on this data using Python:\n"
      ],
      "metadata": {
        "id": "zl-U_uIz2diN"
      }
    },
    {
      "cell_type": "code",
      "execution_count": 1,
      "metadata": {
        "colab": {
          "base_uri": "https://localhost:8080/",
          "height": 152
        },
        "id": "tr2Wojht2I1E",
        "outputId": "0661b3f4-998d-4a57-a0b6-4731b769555f"
      },
      "outputs": [
        {
          "output_type": "error",
          "ename": "SyntaxError",
          "evalue": "ignored",
          "traceback": [
            "\u001b[0;36m  File \u001b[0;32m\"<ipython-input-1-bfdcfa143e80>\"\u001b[0;36m, line \u001b[0;32m1\u001b[0m\n\u001b[0;31m    Linear regression is a commonly used method to model time series data. It involves fitting a linear equation to the data to describe the relationship between the dependent variable and one or more independent variables.\u001b[0m\n\u001b[0m           ^\u001b[0m\n\u001b[0;31mSyntaxError\u001b[0m\u001b[0;31m:\u001b[0m invalid syntax\n"
          ]
        }
      ],
      "source": [
        "import pandas as pd\n",
        "import numpy as np\n",
        "from sklearn.linear_model import LinearRegression\n",
        "\n",
        "# load the sales data\n",
        "sales_data = pd.read_csv('sales.csv')\n",
        "\n",
        "# split the data into training and testing sets\n",
        "train_data = sales_data[:24]\n",
        "test_data = sales_data[24:]\n",
        "\n",
        "# fit a linear regression model to the training data\n",
        "regression_model = LinearRegression()\n",
        "regression_model.fit(train_data[['month']], train_data['sales'])\n",
        "\n",
        "# make predictions on the test data\n",
        "test_data['predicted_sales'] = regression_model.predict(test_data[['month']])\n",
        "\n",
        "# evaluate the model using the mean squared error\n",
        "mse = np.mean((test_data['sales'] - test_data['predicted_sales'])**2)\n",
        "print('Mean Squared Error:', mse)\n"
      ]
    },
    {
      "cell_type": "markdown",
      "source": [
        "In this example, we first load the sales data and split it into training and testing sets. We then fit a linear regression model to the training data using the LinearRegression class from the sklearn library. Next, we use the trained model to make predictions on the test data, and evaluate the model using the mean squared error.\n",
        "\n",
        "Validation is important when using linear regression with time series data because the model assumes that the observations are independent, which may not be true for time series data. To address this issue, we can use cross-validation techniques such as k-fold cross-validation or time-series cross-validation to ensure that the model is accurate and reliable. These techniques involve splitting the data into multiple folds and training the model on different subsets of the data, then evaluating the model on the remaining data. This can help to detect any overfitting or underfitting issues and ensure that the model is generalizable to new data."
      ],
      "metadata": {
        "id": "vd8lpY4820IZ"
      }
    },
    {
      "cell_type": "markdown",
      "source": [
        "here's an example of how to perform k-fold cross-validation on the example of using linear regression to model monthly sales data:"
      ],
      "metadata": {
        "id": "26I9t4KJ25-U"
      }
    },
    {
      "cell_type": "code",
      "source": [
        "import pandas as pd\n",
        "import numpy as np\n",
        "from sklearn.linear_model import LinearRegression\n",
        "from sklearn.model_selection import KFold\n",
        "\n",
        "# load the sales data\n",
        "sales_data = pd.read_csv('sales.csv')\n",
        "\n",
        "# define the number of folds for k-fold cross-validation\n",
        "n_folds = 5\n",
        "\n",
        "# define the independent variable and the dependent variable\n",
        "X = sales_data[['month']]\n",
        "y = sales_data['sales']\n",
        "\n",
        "# perform k-fold cross-validation\n",
        "kf = KFold(n_splits=n_folds)\n",
        "mse_list = []\n",
        "for train_index, test_index in kf.split(X):\n",
        "    # split the data into training and testing sets for this fold\n",
        "    X_train, X_test = X.iloc[train_index], X.iloc[test_index]\n",
        "    y_train, y_test = y.iloc[train_index], y.iloc[test_index]\n",
        "\n",
        "    # fit a linear regression model to the training data\n",
        "    regression_model = LinearRegression()\n",
        "    regression_model.fit(X_train, y_train)\n",
        "\n",
        "    # make predictions on the test data\n",
        "    y_pred = regression_model.predict(X_test)\n",
        "\n",
        "    # evaluate the model using the mean squared error\n",
        "    mse = np.mean((y_test - y_pred)**2)\n",
        "    mse_list.append(mse)\n",
        "\n",
        "# print the mean and standard deviation of the mean squared error across all folds\n",
        "print('Mean Squared Error:', np.mean(mse_list))\n",
        "print('Standard Deviation:', np.std(mse_list))\n"
      ],
      "metadata": {
        "id": "vl11HYbE2NJu"
      },
      "execution_count": null,
      "outputs": []
    },
    {
      "cell_type": "markdown",
      "source": [
        "In this example, we first define the number of folds for k-fold cross-validation and the independent and dependent variables. We then create a KFold object with the specified number of folds and loop over the folds. For each fold, we split the data into training and testing sets using the indices provided by the KFold object, fit a linear regression model to the training data, make predictions on the test data, and evaluate the model using the mean squared error. We append the mean squared error for each fold to a list, and then print the mean and standard deviation of the mean squared error across all folds.\n",
        "\n",
        "K-fold cross-validation can help to ensure that the model is accurate and reliable by training and evaluating the model on multiple subsets of the data. It can also help to detect any overfitting or underfitting issues and ensure that the model is generalizable to new data."
      ],
      "metadata": {
        "id": "TOUzZ5RV3ADx"
      }
    },
    {
      "cell_type": "markdown",
      "source": [
        "To conclude the evaluation decision based on the results of the k-fold cross-validation, we can look at the mean and standard deviation of the mean squared error across all folds.\n",
        "\n",
        "If the mean squared error is small and the standard deviation is also small, it suggests that the model is performing well and is able to make accurate predictions on new data. On the other hand, if the mean squared error is large and the standard deviation is also large, it suggests that the model is not performing well and may be overfitting or underfitting the data.\n",
        "\n",
        "In the example, if the mean squared error is low and the standard deviation is also low, we can conclude that the linear regression model is performing well in modeling the relationship between sales and time for the given data. This means that the model can be used to make accurate predictions for new sales data in the future. However, if the mean squared error is high and the standard deviation is also high, we may need to consider alternative models or additional features to improve the accuracy of the predictions."
      ],
      "metadata": {
        "id": "4UWLUulp3D66"
      }
    }
  ]
}